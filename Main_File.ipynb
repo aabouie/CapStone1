{
 "cells": [
  {
   "cell_type": "code",
   "execution_count": 1,
   "metadata": {},
   "outputs": [],
   "source": [
    "from pymongo import MongoClient\n",
    "import pprint\n",
    "import pandas as pd\n",
    "import requests\n",
    "from bs4 import BeautifulSoup\n",
    "import time\n",
    "import copy\n",
    "import re\n",
    "from time import sleep\n",
    "from selenium import webdriver"
   ]
  },
  {
   "cell_type": "code",
   "execution_count": 2,
   "metadata": {},
   "outputs": [],
   "source": [
    "carmax_url = 'https://www.carmax.com/cars/ford'\n",
    "#carmax_url = 'https://www.carmax.com/'\n",
    "#carmax_url = 'https://www.carvana.com/cars/ford'\n",
    "#headers = {'User-Agent': 'Mozilla/5.0 (Macintosh; Intel Mac OS X 10_11_5) AppleWebKit/537.36 (KHTML, like Gecko) Chrome/50.0.2661.102 Safari/537.36'}\n",
    "headers = {'User-Agent': 'Mozilla/5.0 (Windows NT 6.1; WOW64) AppleWebKit/537.36 (KHTML, like Gecko) Chrome/56.0.2924.76 Safari/537.36', \"Upgrade-Insecure-Requests\": \"1\",\"DNT\": \"1\",\"Accept\": \"text/html,application/xhtml+xml,application/xml;q=0.9,*/*;q=0.8\",\"Accept-Language\": \"en-US,en;q=0.5\",\"Accept-Encoding\": \"gzip, deflate\"}"
   ]
  },
  {
   "cell_type": "code",
   "execution_count": 3,
   "metadata": {},
   "outputs": [],
   "source": [
    "client = MongoClient('localhost', 27017)\n",
    "db = client['Capstone1']\n",
    "pages = db.url"
   ]
  },
  {
   "cell_type": "code",
   "execution_count": 4,
   "metadata": {},
   "outputs": [],
   "source": [
    "Ford_files=['Ford_2013_2016.html','Ford_2017_2020.html']"
   ]
  },
  {
   "cell_type": "code",
   "execution_count": 5,
   "metadata": {},
   "outputs": [],
   "source": [
    "url_links = []\n",
    "for file in Ford_files:\n",
    "    soup = BeautifulSoup(open(\"/home/ali/Documents/CapStone_Projects/CapStone1/\" + file), \"html.parser\")\n",
    "    for idx,link in enumerate(soup.find_all('article','car-tile')):\n",
    "        url_links.append(link.a['href'])\n",
    "        "
   ]
  },
  {
   "cell_type": "code",
   "execution_count": 15,
   "metadata": {},
   "outputs": [
    {
     "name": "stdout",
     "output_type": "stream",
     "text": [
      "https://www.carmax.com/car/19457831\n",
      "https://www.carmax.com/car/19406621\n",
      "https://www.carmax.com/car/19935122\n",
      "https://www.carmax.com/car/19950716\n",
      "https://www.carmax.com/car/19793308\n",
      "https://www.carmax.com/car/19847997\n"
     ]
    }
   ],
   "source": [
    "car_mileage = []\n",
    "car_price = []\n",
    "car_mpg = []\n",
    "car_model_year = []\n",
    "car_model = []\n",
    "car_make = []\n",
    "car_color = []\n",
    "car_transmission = []\n",
    "car_engine_size = []\n",
    "car_horse_power = []\n",
    "car_engine_cylinder = []\n",
    "car_msrp_price = []\n",
    "\n",
    "\n",
    "i=0\n",
    "for link in set(url_links):\n",
    "    scrape_url = link\n",
    "    print(link)\n",
    "    headers = {'User-Agent': 'Mozilla/5.0 (Windows NT 6.1; WOW64) AppleWebKit/537.36 (KHTML, like Gecko) Chrome/56.0.2924.76 Safari/537.36', \"Upgrade-Insecure-Requests\": \"1\",\"DNT\": \"1\",\"Accept\": \"text/html,application/xhtml+xml,application/xml;q=0.9,*/*;q=0.8\",\"Accept-Language\": \"en-US,en;q=0.5\",\"Accept-Encoding\": \"gzip, deflate\"}\n",
    "    r_1 = requests.get(scrape_url,headers=headers)\n",
    "    soup = BeautifulSoup(r_1.text,'html.parser')\n",
    "    car_mileage.append(soup.find_all('div','value')[1].text.strip())\n",
    "    car_price.append(soup.find_all('div','value')[0].text.strip())\n",
    "    \n",
    "    car_mpg.append([None if soup.find_all('div','mpg')==[] else soup.find('div','mpg').text])\n",
    "    \n",
    "    car_model_year.append(soup.find('div','price-mileage__car-title').find('span','price-mileage__car-title__year-make').text.strip(\" \").split(\" \",1)[0])\n",
    "    car_model.append(soup.find('div','price-mileage__car-title').find('span','price-mileage__car-title__year-make').text.strip(\" \").split(\" \",1)[1])\n",
    "    car_make.append(soup.find('div','price-mileage__car-title').find('span','price-mileage__car-title__model-trim').text.strip())\n",
    "    a = soup.find_all('script')[6]\n",
    "    a = str(a)\n",
    "    car_color.append(a.split('ExteriorColor\":\"')[1].split('\"')[0])\n",
    "    car_transmission.append(a.split('Transmission\":\"')[1].split('\"')[0])\n",
    "    car_engine_size.append(float(a.split('EngineSize\":\"')[1].split('L')[0]))\n",
    "    car_horse_power.append(float(a.split('Horsepower\":')[1].split(',')[0]))\n",
    "    car_engine_cylinder.append(int(a.split('EngineCylinders\":')[1].split(',')[0]))\n",
    "    car_msrp_price.append(float(a.split('Msrp\":')[1].split(',')[0]))\n",
    "    i+=1\n",
    "    sleep(10)\n",
    "    if i>5:\n",
    "        break "
   ]
  },
  {
   "cell_type": "code",
   "execution_count": 16,
   "metadata": {},
   "outputs": [
    {
     "data": {
      "text/plain": [
       "['Burgundy', 'Gray', 'Black', 'White', 'Red', 'Tan']"
      ]
     },
     "execution_count": 16,
     "metadata": {},
     "output_type": "execute_result"
    }
   ],
   "source": [
    "car_color"
   ]
  },
  {
   "cell_type": "code",
   "execution_count": 17,
   "metadata": {},
   "outputs": [
    {
     "data": {
      "text/plain": [
       "[33800.0, 19300.0, 34300.0, 52200.0, 19200.0, 22300.0]"
      ]
     },
     "execution_count": 17,
     "metadata": {},
     "output_type": "execute_result"
    }
   ],
   "source": [
    "car_msrp_price"
   ]
  },
  {
   "cell_type": "code",
   "execution_count": null,
   "metadata": {},
   "outputs": [],
   "source": [
    "df = pd.DataFrame({'car_mileage': car_mileage, \n",
    "                   'car_price': car_price, \n",
    "                   'car_mpg': car_mpg ,\n",
    "                   'car_model_year': car_model_year,\n",
    "                   'car_model': car_model ,\n",
    "                   'car_make': car_make,\n",
    "                   'car_color': car_color,\n",
    "                   'car_transmission': car_transmission,\n",
    "                   'car_engine_size': car_engine_size,\n",
    "                   'car_horse_power': car_horse_power ,\n",
    "                   'car_engine_cylinder': car_engine_cylinder,\n",
    "                   'car_msrp_price':car_msrp_price,\n",
    "                                          })"
   ]
  }
 ],
 "metadata": {
  "kernelspec": {
   "display_name": "Python 3",
   "language": "python",
   "name": "python3"
  },
  "language_info": {
   "codemirror_mode": {
    "name": "ipython",
    "version": 3
   },
   "file_extension": ".py",
   "mimetype": "text/x-python",
   "name": "python",
   "nbconvert_exporter": "python",
   "pygments_lexer": "ipython3",
   "version": "3.7.9"
  }
 },
 "nbformat": 4,
 "nbformat_minor": 4
}
