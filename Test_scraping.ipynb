{
 "cells": [
  {
   "cell_type": "code",
   "execution_count": 3,
   "metadata": {},
   "outputs": [],
   "source": [
    "from pymongo import MongoClient\n",
    "import pprint\n",
    "import pandas as pd\n",
    "import requests\n",
    "from bs4 import BeautifulSoup\n",
    "import time\n",
    "import copy\n",
    "import re\n",
    "from time import sleep\n",
    "from selenium import webdriver"
   ]
  },
  {
   "cell_type": "code",
   "execution_count": 337,
   "metadata": {},
   "outputs": [],
   "source": [
    "carmax_url = 'https://www.carmax.com/cars/ford'\n",
    "#carmax_url = 'https://www.carmax.com/'\n",
    "#carmax_url = 'https://www.carvana.com/cars/ford'\n",
    "#headers = {'User-Agent': 'Mozilla/5.0 (Macintosh; Intel Mac OS X 10_11_5) AppleWebKit/537.36 (KHTML, like Gecko) Chrome/50.0.2661.102 Safari/537.36'}\n",
    "headers = {'User-Agent': 'Mozilla/5.0 (Windows NT 6.1; WOW64) AppleWebKit/537.36 (KHTML, like Gecko) Chrome/56.0.2924.76 Safari/537.36', \"Upgrade-Insecure-Requests\": \"1\",\"DNT\": \"1\",\"Accept\": \"text/html,application/xhtml+xml,application/xml;q=0.9,*/*;q=0.8\",\"Accept-Language\": \"en-US,en;q=0.5\",\"Accept-Encoding\": \"gzip, deflate\"}"
   ]
  },
  {
   "cell_type": "code",
   "execution_count": 443,
   "metadata": {},
   "outputs": [],
   "source": [
    "client = MongoClient('localhost', 27017)\n",
    "db = client['Capstone1']\n",
    "pages = db.url"
   ]
  },
  {
   "cell_type": "code",
   "execution_count": 440,
   "metadata": {},
   "outputs": [],
   "source": [
    "#soup = BeautifulSoup(r.text,'html.parser')"
   ]
  },
  {
   "cell_type": "code",
   "execution_count": 441,
   "metadata": {},
   "outputs": [],
   "source": [
    "#print(soup.prettify())"
   ]
  },
  {
   "cell_type": "code",
   "execution_count": 442,
   "metadata": {},
   "outputs": [],
   "source": [
    "Ford_files=['Ford_2013_2016.html','Ford_2017_2020.html']"
   ]
  },
  {
   "cell_type": "code",
   "execution_count": 430,
   "metadata": {},
   "outputs": [],
   "source": [
    "#soup = BeautifulSoup(open(\"/home/ali/Downloads/Used Ford 2013-2021 for Sale.html\"), \"html.parser\")\n",
    "#soup = BeautifulSoup(open(\"/home/ali/Documents/CapStone_Projects/CapStone1/Ford_2013_2016.html\"), \"html.parser\")\n",
    "#d=[]\n",
    "#for idx,website in enumerate(soup.find_all('article','car-tile')):\n",
    "#    d.append(website.a['href'])\n",
    "url_links = []\n",
    "for file in Ford_files:\n",
    "    soup = BeautifulSoup(open(\"/home/ali/Documents/CapStone_Projects/CapStone1/\" + file), \"html.parser\")\n",
    "    for idx,link in enumerate(soup.find_all('article','car-tile')):\n",
    "        url_links.append(link.a['href'])\n",
    "        "
   ]
  },
  {
   "cell_type": "code",
   "execution_count": 446,
   "metadata": {},
   "outputs": [],
   "source": [
    "#Saving into mongo database\n",
    "#for link in set(url_links):\n",
    "#    pages.insert_one({'link':link})"
   ]
  },
  {
   "cell_type": "code",
   "execution_count": null,
   "metadata": {},
   "outputs": [],
   "source": []
  },
  {
   "cell_type": "code",
   "execution_count": 401,
   "metadata": {},
   "outputs": [],
   "source": []
  },
  {
   "cell_type": "code",
   "execution_count": 402,
   "metadata": {},
   "outputs": [],
   "source": []
  },
  {
   "cell_type": "code",
   "execution_count": null,
   "metadata": {},
   "outputs": [],
   "source": []
  },
  {
   "cell_type": "markdown",
   "metadata": {},
   "source": [
    "# Tests"
   ]
  },
  {
   "cell_type": "code",
   "execution_count": 57,
   "metadata": {},
   "outputs": [],
   "source": [
    "#new_url = 'https://www.carmax.com/car/19651702'\n",
    "#new_url = 'https://www.carmax.com/car/19687205'\n",
    "new_url = 'https://www.carmax.com/car/19140440'\n",
    "#new_url = 'https://www.carmax.com/car/19935122'\n",
    "headers = {'User-Agent': 'Mozilla/5.0 (Windows NT 6.1; WOW64) AppleWebKit/537.36 (KHTML, like Gecko) Chrome/56.0.2924.76 Safari/537.36', \"Upgrade-Insecure-Requests\": \"1\",\"DNT\": \"1\",\"Accept\": \"text/html,application/xhtml+xml,application/xml;q=0.9,*/*;q=0.8\",\"Accept-Language\": \"en-US,en;q=0.5\",\"Accept-Encoding\": \"gzip, deflate\"}"
   ]
  },
  {
   "cell_type": "code",
   "execution_count": 58,
   "metadata": {},
   "outputs": [],
   "source": [
    "r_1 = requests.get(new_url,headers=headers)"
   ]
  },
  {
   "cell_type": "code",
   "execution_count": 59,
   "metadata": {},
   "outputs": [],
   "source": [
    "soup = BeautifulSoup(r_1.text,'html.parser')\n",
    "#print(soup.prettify())"
   ]
  },
  {
   "cell_type": "markdown",
   "metadata": {},
   "source": [
    "### Car Mileage"
   ]
  },
  {
   "cell_type": "code",
   "execution_count": 60,
   "metadata": {},
   "outputs": [
    {
     "data": {
      "text/plain": [
       "'62K miles'"
      ]
     },
     "execution_count": 60,
     "metadata": {},
     "output_type": "execute_result"
    }
   ],
   "source": [
    "car_mileage = soup.find_all('div','value')[1].text.strip()\n",
    "car_mileage"
   ]
  },
  {
   "cell_type": "markdown",
   "metadata": {},
   "source": [
    "### Car Price"
   ]
  },
  {
   "cell_type": "code",
   "execution_count": 61,
   "metadata": {},
   "outputs": [
    {
     "data": {
      "text/plain": [
       "'$33,998*'"
      ]
     },
     "execution_count": 61,
     "metadata": {},
     "output_type": "execute_result"
    }
   ],
   "source": [
    "car_price = soup.find_all('div','value')[0].text.strip()\n",
    "car_price"
   ]
  },
  {
   "cell_type": "markdown",
   "metadata": {},
   "source": [
    "### Car MPG"
   ]
  },
  {
   "cell_type": "code",
   "execution_count": 67,
   "metadata": {},
   "outputs": [
    {
     "data": {
      "text/plain": [
       "['16/22 mpg']"
      ]
     },
     "execution_count": 67,
     "metadata": {},
     "output_type": "execute_result"
    }
   ],
   "source": [
    "#soup.find_all('div','kmx-typography--body-1')[1].text\n",
    "#car_mpg = soup.find('div','mpg').text\n",
    "#car_mpg\n",
    "#soup.find('div','mpg').text\n",
    "car_mpg =[None if soup.find_all('div','mpg')==[] else soup.find('div','mpg').text]\n",
    "#soup.find_all('div','mpg')\n",
    "car_mpg"
   ]
  },
  {
   "cell_type": "markdown",
   "metadata": {},
   "source": [
    "### Model year"
   ]
  },
  {
   "cell_type": "code",
   "execution_count": 13,
   "metadata": {},
   "outputs": [],
   "source": [
    "car_year = soup.find('div','price-mileage__car-title').find('span','price-mileage__car-title__year-make').text.strip(\" \").split(\" \",1)[0]"
   ]
  },
  {
   "cell_type": "markdown",
   "metadata": {},
   "source": [
    "### Model"
   ]
  },
  {
   "cell_type": "code",
   "execution_count": 14,
   "metadata": {},
   "outputs": [],
   "source": [
    "car_model = soup.find('div','price-mileage__car-title').find('span','price-mileage__car-title__year-make').text.strip(\" \").split(\" \",1)[1]\n",
    "#car_model"
   ]
  },
  {
   "cell_type": "markdown",
   "metadata": {},
   "source": [
    "### Make"
   ]
  },
  {
   "cell_type": "code",
   "execution_count": 15,
   "metadata": {},
   "outputs": [],
   "source": [
    "Car_make = soup.find('div','price-mileage__car-title').find('span','price-mileage__car-title__model-trim').text.strip()"
   ]
  },
  {
   "cell_type": "markdown",
   "metadata": {},
   "source": [
    "### Color"
   ]
  },
  {
   "cell_type": "code",
   "execution_count": 16,
   "metadata": {},
   "outputs": [],
   "source": [
    "#soup.find_all('div','specifications-overview')\n",
    "#soup.find_all('div','specifications-overview')\n",
    "#specifications-overview > div:nth-child(2) > div:nth-child(5) > p:nth-child(2)\n",
    "#soup.select_one('#specifications-overview > div:nth-child(2) > div:nth-child(5) > p:nth-child(2)').text\n",
    "a = soup.find_all('script')[6]\n",
    "a = str(a)\n",
    "car_color = a.split('ExteriorColor\":\"')[1].split('\"')[0]"
   ]
  },
  {
   "cell_type": "markdown",
   "metadata": {},
   "source": [
    "### Transmission"
   ]
  },
  {
   "cell_type": "code",
   "execution_count": 17,
   "metadata": {},
   "outputs": [
    {
     "data": {
      "text/plain": [
       "'Automatic'"
      ]
     },
     "execution_count": 17,
     "metadata": {},
     "output_type": "execute_result"
    }
   ],
   "source": [
    "car_transmission = a.split('Transmission\":\"')[1].split('\"')[0]\n",
    "car_transmission"
   ]
  },
  {
   "cell_type": "markdown",
   "metadata": {},
   "source": [
    "### Engine Size"
   ]
  },
  {
   "cell_type": "code",
   "execution_count": 18,
   "metadata": {},
   "outputs": [
    {
     "data": {
      "text/plain": [
       "5.0"
      ]
     },
     "execution_count": 18,
     "metadata": {},
     "output_type": "execute_result"
    }
   ],
   "source": [
    "car_engineSize = float(a.split('EngineSize\":\"')[1].split('L')[0])\n",
    "car_engineSize"
   ]
  },
  {
   "cell_type": "markdown",
   "metadata": {},
   "source": [
    "### Horsepower"
   ]
  },
  {
   "cell_type": "code",
   "execution_count": 19,
   "metadata": {},
   "outputs": [
    {
     "data": {
      "text/plain": [
       "385.0"
      ]
     },
     "execution_count": 19,
     "metadata": {},
     "output_type": "execute_result"
    }
   ],
   "source": [
    "car_HorsePower = float(a.split('Horsepower\":')[1].split(',')[0])\n",
    "car_HorsePower"
   ]
  },
  {
   "cell_type": "markdown",
   "metadata": {},
   "source": [
    "### EngineCylinder"
   ]
  },
  {
   "cell_type": "code",
   "execution_count": 20,
   "metadata": {},
   "outputs": [
    {
     "data": {
      "text/plain": [
       "8"
      ]
     },
     "execution_count": 20,
     "metadata": {},
     "output_type": "execute_result"
    }
   ],
   "source": [
    "car_EngineCylinder = int(a.split('EngineCylinders\":')[1].split(',')[0])\n",
    "car_EngineCylinder"
   ]
  },
  {
   "cell_type": "markdown",
   "metadata": {},
   "source": [
    "### MSRP price"
   ]
  },
  {
   "cell_type": "code",
   "execution_count": 21,
   "metadata": {},
   "outputs": [
    {
     "data": {
      "text/plain": [
       "34300.0"
      ]
     },
     "execution_count": 21,
     "metadata": {},
     "output_type": "execute_result"
    }
   ],
   "source": [
    "car_msrp = float(a.split('Msrp\":')[1].split(',')[0])\n",
    "car_msrp"
   ]
  },
  {
   "cell_type": "code",
   "execution_count": 22,
   "metadata": {},
   "outputs": [
    {
     "data": {
      "text/plain": [
       "'<script>var viewModel={vehicle:{\"StockNumber\":19935122,\"Vin\":\"1FTEW1C51JKD38174\",\"Year\":2018,\"Make\":\"Ford\",\"Model\":\"F150\",\"Body\":\"4D Crew Cab\",\"Trim\":\"Lariat\",\"Color\":{\"ExteriorColor\":\"Black\",\"InteriorColor\":\"Black\",\"NormalizedExteriorColor\":\"Black\",\"NormalizedInteriorColor\":\"Black\"},\"AccidentCount\":0,\"OwnerCount\":2,\"Price\":{\"BasePrice\":36998.0,\"Msrp\":34300.0,\"RebateAmount\":null,\"RebateEndDate\":null},\"Certifications\":[],\"Mileage\":40067,\"IsNew\":false,\"IsNewArrival\":false,\"IsSaleable\":false,\"IsSold\":false,\"ExternalIds\":{\"IntelVehicleNumber\":null,\"MakeCode\":\"FO\",\"ModelCode\":\"F150\",\"ManufacturersCode\":null},\"ManufacturersWarranty\":null,\"Specifications\":{\"EngineSize\":\"5.0L\",\"EngineType\":\"Turbo Gas\",\"EngineTorque\":385,\"EngineTorqueRpm\":3850,\"Horsepower\":385,\"HorsepowerRpm\":5750,\"EngineCylinders\":8,\"FuelType\":\"Gas\",\"MpgCity\":null,\"MpgHighway\":null,\"DriveTrain\":\"2WD\",\"Transmission\":\"Automatic\"},\"Reconditioning\":{\"NewTireCount\":2,\"ReconditioningItems\":[\"Replaced Two Tires\"]},\"StoreId\":7114,\"Longitude\":-95.425425,\"Latitude\":30.001286,\"PriorUses\":[\"10\",\"30\"],\"Features\":[\"Navigation System\",\"Rear View Camera\",\"Bluetooth Technology\",\"Alloy Wheels\",\"AM/FM Stereo\",\"Power Seat(s)\",\"Rear Defroster\",\"Front Seat Heaters\",\"Leather Seats\",\"Parking Sensors\",\"Power Locks\",\"Memory Seat(s)\",\"Automatic Transmission\",\"Cruise Control\",\"Apple CarPlay\",\"Satellite Radio Ready\",\"Overhead Airbags\",\"Smart Key\",\"Traction Control\",\"Air Conditioning\",\"Power Mirrors\",\"A/C Seat(s)\",\"Sync System\",\"Side Airbags\",\"Power Windows\",\"ABS Brakes\",\"Auxiliary Audio Input\",\"CD Audio\",\"SiriusXM Trial Available\",\"Flex Fuel Vehicle\",\"Bed Liner\",\"Bed Cover\"],\"Highlights\":[\"advancedFeatures\"],\"TopFeatures\":[[\"Navigation System\",\"Rear View Camera\"],[\"Bluetooth Technology\",\"Alloy Wheels\"],[\"AM/FM Stereo\",\"Power Seat(s)\"]],\"AllFeatures\":[[\"A/C Seat(s)\",\"ABS Brakes\",\"Air Conditioning\",\"Alloy Wheels\",\"AM/FM Stereo\",\"Apple CarPlay\",\"Automatic Transmission\",\"Auxiliary Audio Input\",\"Bed Cover\",\"Bed Liner\",\"Bluetooth Technology\"],[\"CD Audio\",\"Cruise Control\",\"Flex Fuel Vehicle\",\"Front Seat Heaters\",\"Leather Seats\",\"Memory Seat(s)\",\"Navigation System\",\"Overhead Airbags\",\"Parking Sensors\",\"Power Locks\",\"Power Mirrors\"],[\"Power Seat(s)\",\"Power Windows\",\"Rear Defroster\",\"Rear View Camera\",\"Satellite Radio Ready\",\"Side Airbags\",\"SiriusXM Trial Available\",\"Smart Key\",\"Sync System\",\"Traction Control\"]],\"Series\":\"F Series\",\"Types\":[],\"Status\":\"USED RECON\",\"StatusCode\":320,\"LotLocation\":\"1MZ303\",\"IsComingSoon\":true,\"ComingSoonDate\":null,\"LastMadeSaleableDate\":null,\"LastUpdatedDateUtc\":\"2021-02-22T13:57:12.2455276Z\",\"Origin\":null,\"VehicleSize\":\"Full-size\",\"Packages\":[],\"MarkDownDate\":null,\"IsMarkDown\":false,\"MarkDownAmount\":null,\"CurrentMarkDown\":null,\"FeatureScore\":null,\"KeyCounts\":null,\"SkuId\":null,\"CategorizedFeatures\":null},store:{\"County\":null,\"DrivingDirections\":null,\"AlertMessage\":\"\",\"Id\":7190,\"Name\":\"Austin South\",\"AddressLine1\":\"4400 S. IH 35\",\"AddressLine2\":null,\"City\":\"Austin\",\"MailingCity\":\"Austin\",\"GeoCity\":\"Austin\",\"StateAbbreviation\":\"TX\",\"StateName\":\"Texas\",\"ZipCode\":\"78745\",\"DrivingDirectionsAddress\":\"4400 S. IH 35 Austin TX\",\"GrandOpeningMessage\":null,\"TimeZoneId\":2,\"DaylightSavingsObserved\":true,\"Hours\":[{\"StartDayOfWeek\":1,\"EndDayOfWeek\":5,\"StartHour\":\"10:00:00\",\"EndHour\":\"21:00:00\"},{\"StartDayOfWeek\":6,\"EndDayOfWeek\":6,\"StartHour\":\"09:00:00\",\"EndHour\":\"21:00:00\"}],\"HolidayHours\":[],\"PhoneNumbers\":[{\"Type\":\"PhoneFax\",\"Number\":\"5126517166\"},{\"Type\":\"EOfficePhoneLocal\",\"Number\":\"5126517162\"},{\"Type\":\"EOfficePhoneFax\",\"Number\":\"5126517168\"},{\"Type\":\"EOfficePhoneTollFree\",\"Number\":\"8664097613\"},{\"Type\":\"PhoneLocalMobile\",\"Number\":\"5126518348\"},{\"Type\":\"PhoneLocal\",\"Number\":\"5123625945\"},{\"Type\":\"PhoneTollFree\",\"Number\":\"8558422419\"}],\"Latitude\":30.211885,\"Longitude\":-97.756775,\"ServiceHours\":[{\"StartDayOfWeek\":1,\"EndDayOfWeek\":5,\"StartHour\":\"07:30:00\",\"EndHour\":\"18:00:00\"}],\"ActiveStatus\":\"Active\",\"Capabilities\":[\"Service\",\"Appraisals\",\"UsedCarSales\",\"AppraisalAppointments\",\"BrowseAppointments\",\"CarLotOpen\",\"CEC\",\"Curbside\",\"CurbsideReservation\",\"CustomerHub\",\"Delivery\",\"ExpeditedPickup\",\"FinancePrequal\",\"HoldAppointments\",\"Reservations\",\"RetailService\",\"ShowroomOpen\",\"TestDriveAtStore\",\"TransferReservation\"],\"PhoneHours\":[{\"StartDayOfWeek\":1,\"EndDayOfWeek\":5,\"StartHour\":\"10:00:00\",\"EndHour\":\"21:00:00\"},{\"StartDayOfWeek\":6,\"EndDayOfWeek\":6,\"StartHour\":\"09:00:00\",\"EndHour\":\"21:00:00\"}],\"IsSaveable\":true,\"UpdatedDateUtc\":\"2021-02-22T22:30:03.4894859Z\",\"IsServiceOnly\":false,\"IsClosed\":false,\"IsAppointmentOnly\":false},vehicleStore:{\"County\":null,\"DrivingDirections\":null,\"AlertMessage\":\"\",\"Id\":7114,\"Name\":\"North Houston\",\"AddressLine1\":\"16110 North Freeway\",\"AddressLine2\":null,\"City\":\"Houston\",\"MailingCity\":\"Houston\",\"GeoCity\":\"Houston\",\"StateAbbreviation\":\"TX\",\"StateName\":\"Texas\",\"ZipCode\":\"77090\",\"DrivingDirectionsAddress\":\"16110 North Freeway Houston TX\",\"GrandOpeningMessage\":null,\"TimeZoneId\":2,\"DaylightSavingsObserved\":true,\"Hours\":[{\"StartDayOfWeek\":1,\"EndDayOfWeek\":5,\"StartHour\":\"10:00:00\",\"EndHour\":\"21:00:00\"},{\"StartDayOfWeek\":6,\"EndDayOfWeek\":6,\"StartHour\":\"09:00:00\",\"EndHour\":\"21:00:00\"}],\"HolidayHours\":[],\"PhoneNumbers\":[{\"Type\":\"PhoneFax\",\"Number\":\"2812098434\"},{\"Type\":\"EOfficePhoneLocal\",\"Number\":\"2812098454\"},{\"Type\":\"EOfficePhoneFax\",\"Number\":\"2812098453\"},{\"Type\":\"EOfficePhoneTollFree\",\"Number\":\"8662309340\"},{\"Type\":\"PhoneLocalMobile\",\"Number\":\"2812098444\"},{\"Type\":\"PhoneLocal\",\"Number\":\"2819822426\"},{\"Type\":\"PhoneTollFree\",\"Number\":\"8558681036\"}],\"Latitude\":30.001286,\"Longitude\":-95.42542,\"ServiceHours\":[{\"StartDayOfWeek\":1,\"EndDayOfWeek\":5,\"StartHour\":\"07:30:00\",\"EndHour\":\"18:00:00\"}],\"ActiveStatus\":\"Active\",\"Capabilities\":[\"Service\",\"Appraisals\",\"UsedCarSales\",\"AppraisalAppointments\",\"BrowseAppointments\",\"CarLotOpen\",\"CEC\",\"Curbside\",\"CurbsideReservation\",\"CustomerHub\",\"Delivery\",\"ExpeditedPickup\",\"FinancePrequal\",\"HoldAppointments\",\"Reservations\",\"RetailService\",\"ShowroomOpen\",\"TestDriveAtStore\",\"TransferReservation\"],\"PhoneHours\":[{\"StartDayOfWeek\":1,\"EndDayOfWeek\":5,\"StartHour\":\"10:00:00\",\"EndHour\":\"21:00:00\"},{\"StartDayOfWeek\":6,\"EndDayOfWeek\":6,\"StartHour\":\"09:00:00\",\"EndHour\":\"21:00:00\"}],\"IsSaveable\":true,\"UpdatedDateUtc\":\"2021-02-22T22:30:03.0003361Z\",\"IsServiceOnly\":false,\"IsClosed\":false,\"IsAppointmentOnly\":false},pageId:\"Carpage:Coming Soon\"};</script>'"
      ]
     },
     "execution_count": 22,
     "metadata": {},
     "output_type": "execute_result"
    }
   ],
   "source": [
    "a"
   ]
  },
  {
   "cell_type": "code",
   "execution_count": null,
   "metadata": {},
   "outputs": [],
   "source": []
  }
 ],
 "metadata": {
  "kernelspec": {
   "display_name": "Python 3",
   "language": "python",
   "name": "python3"
  },
  "language_info": {
   "codemirror_mode": {
    "name": "ipython",
    "version": 3
   },
   "file_extension": ".py",
   "mimetype": "text/x-python",
   "name": "python",
   "nbconvert_exporter": "python",
   "pygments_lexer": "ipython3",
   "version": "3.7.9"
  }
 },
 "nbformat": 4,
 "nbformat_minor": 4
}
