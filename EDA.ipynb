{
 "cells": [
  {
   "cell_type": "code",
   "execution_count": 1,
   "metadata": {},
   "outputs": [],
   "source": [
    "# Import libraries\n",
    "import pandas as pd\n",
    "import numpy as np\n",
    "import matplotlib.pyplot as plt"
   ]
  },
  {
   "cell_type": "code",
   "execution_count": 73,
   "metadata": {},
   "outputs": [],
   "source": [
    "# Ford\n",
    "## Texas Data\n",
    "df_TX_1 = pd.read_csv('Ford_TX.csv')\n",
    "df_TX_1['state'] = 'TX'\n",
    "df_TX_2 = pd.read_csv('Ford_TX2.csv')\n",
    "df_TX_2['state'] = 'TX'\n",
    "df_TX_3 = pd.read_csv('Toyota_TX.csv')\n",
    "df_TX_3['state'] = 'TX'\n",
    "## NY Data\n",
    "df_NY_1 = pd.read_csv('Ford_NY_1.csv')\n",
    "df_NY_1['state'] = 'NY'\n",
    "df_NY_2 = pd.read_csv('Ford_NY_2.csv')\n",
    "df_NY_2['state'] = 'NY'\n",
    "## California Data\n",
    "df_CA_1 = pd.read_csv('Ford_CA.csv')\n",
    "df_CA_1['state'] = 'CA'"
   ]
  },
  {
   "cell_type": "markdown",
   "metadata": {},
   "source": [
    "### Merging/Cleaning all data "
   ]
  },
  {
   "cell_type": "code",
   "execution_count": 74,
   "metadata": {},
   "outputs": [
    {
     "data": {
      "text/plain": [
       "(2631, 14)"
      ]
     },
     "execution_count": 74,
     "metadata": {},
     "output_type": "execute_result"
    }
   ],
   "source": [
    "df = pd.concat([df_TX_1,df_TX_2,df_TX_3,df_NY_1,df_NY_2,df_CA_1],axis=0).reset_index(drop=True)\n",
    "df.shape"
   ]
  },
  {
   "cell_type": "code",
   "execution_count": 75,
   "metadata": {},
   "outputs": [
    {
     "data": {
      "text/html": [
       "<div>\n",
       "<style scoped>\n",
       "    .dataframe tbody tr th:only-of-type {\n",
       "        vertical-align: middle;\n",
       "    }\n",
       "\n",
       "    .dataframe tbody tr th {\n",
       "        vertical-align: top;\n",
       "    }\n",
       "\n",
       "    .dataframe thead th {\n",
       "        text-align: right;\n",
       "    }\n",
       "</style>\n",
       "<table border=\"1\" class=\"dataframe\">\n",
       "  <thead>\n",
       "    <tr style=\"text-align: right;\">\n",
       "      <th></th>\n",
       "      <th>car_mileage</th>\n",
       "      <th>car_price</th>\n",
       "      <th>car_mpg</th>\n",
       "      <th>car_model_year</th>\n",
       "      <th>car_model</th>\n",
       "      <th>car_make</th>\n",
       "      <th>car_color</th>\n",
       "      <th>car_transmission</th>\n",
       "      <th>car_engine_size</th>\n",
       "      <th>car_horse_power</th>\n",
       "      <th>car_engine_cylinder</th>\n",
       "      <th>car_msrp_price</th>\n",
       "      <th>state</th>\n",
       "    </tr>\n",
       "  </thead>\n",
       "  <tbody>\n",
       "    <tr>\n",
       "      <th>0</th>\n",
       "      <td>93K miles</td>\n",
       "      <td>$13,998*</td>\n",
       "      <td>['22/33 mpg']</td>\n",
       "      <td>2015</td>\n",
       "      <td>Fusion Titanium</td>\n",
       "      <td>Ford</td>\n",
       "      <td>Red</td>\n",
       "      <td>Automatic</td>\n",
       "      <td>2.0</td>\n",
       "      <td>240.0</td>\n",
       "      <td>4.0</td>\n",
       "      <td>30800.0</td>\n",
       "      <td>TX</td>\n",
       "    </tr>\n",
       "    <tr>\n",
       "      <th>1</th>\n",
       "      <td>115K miles</td>\n",
       "      <td>$36,998*</td>\n",
       "      <td>['12/17 mpg']</td>\n",
       "      <td>2015</td>\n",
       "      <td>F250 XLT</td>\n",
       "      <td>Ford</td>\n",
       "      <td>Silver</td>\n",
       "      <td>Automatic</td>\n",
       "      <td>6.7</td>\n",
       "      <td>400.0</td>\n",
       "      <td>8.0</td>\n",
       "      <td>38300.0</td>\n",
       "      <td>TX</td>\n",
       "    </tr>\n",
       "    <tr>\n",
       "      <th>2</th>\n",
       "      <td>35K miles</td>\n",
       "      <td>$20,998*</td>\n",
       "      <td>['19/27 mpg']</td>\n",
       "      <td>2018</td>\n",
       "      <td>Transit Connect XLT</td>\n",
       "      <td>Ford</td>\n",
       "      <td>Gray</td>\n",
       "      <td>Automatic</td>\n",
       "      <td>2.5</td>\n",
       "      <td>169.0</td>\n",
       "      <td>4.0</td>\n",
       "      <td>28000.0</td>\n",
       "      <td>TX</td>\n",
       "    </tr>\n",
       "    <tr>\n",
       "      <th>3</th>\n",
       "      <td>7K miles</td>\n",
       "      <td>N/A*</td>\n",
       "      <td>['22/28 mpg']</td>\n",
       "      <td>2017</td>\n",
       "      <td>Escape Titanium</td>\n",
       "      <td>Ford</td>\n",
       "      <td>Black</td>\n",
       "      <td>Automatic</td>\n",
       "      <td>1.5</td>\n",
       "      <td>179.0</td>\n",
       "      <td>4.0</td>\n",
       "      <td>31000.0</td>\n",
       "      <td>TX</td>\n",
       "    </tr>\n",
       "    <tr>\n",
       "      <th>4</th>\n",
       "      <td>44K miles</td>\n",
       "      <td>$25,998*</td>\n",
       "      <td>['18/23 mpg']</td>\n",
       "      <td>2015</td>\n",
       "      <td>F150 XL</td>\n",
       "      <td>Ford</td>\n",
       "      <td>Red</td>\n",
       "      <td>Automatic</td>\n",
       "      <td>2.7</td>\n",
       "      <td>325.0</td>\n",
       "      <td>6.0</td>\n",
       "      <td>33600.0</td>\n",
       "      <td>TX</td>\n",
       "    </tr>\n",
       "  </tbody>\n",
       "</table>\n",
       "</div>"
      ],
      "text/plain": [
       "  car_mileage car_price        car_mpg  car_model_year             car_model  \\\n",
       "0   93K miles  $13,998*  ['22/33 mpg']            2015      Fusion Titanium    \n",
       "1  115K miles  $36,998*  ['12/17 mpg']            2015             F250 XLT    \n",
       "2   35K miles  $20,998*  ['19/27 mpg']            2018  Transit Connect XLT    \n",
       "3    7K miles      N/A*  ['22/28 mpg']            2017      Escape Titanium    \n",
       "4   44K miles  $25,998*  ['18/23 mpg']            2015              F150 XL    \n",
       "\n",
       "  car_make car_color car_transmission  car_engine_size  car_horse_power  \\\n",
       "0     Ford       Red        Automatic              2.0            240.0   \n",
       "1     Ford    Silver        Automatic              6.7            400.0   \n",
       "2     Ford      Gray        Automatic              2.5            169.0   \n",
       "3     Ford     Black        Automatic              1.5            179.0   \n",
       "4     Ford       Red        Automatic              2.7            325.0   \n",
       "\n",
       "   car_engine_cylinder  car_msrp_price state  \n",
       "0                  4.0         30800.0    TX  \n",
       "1                  8.0         38300.0    TX  \n",
       "2                  4.0         28000.0    TX  \n",
       "3                  4.0         31000.0    TX  \n",
       "4                  6.0         33600.0    TX  "
      ]
     },
     "execution_count": 75,
     "metadata": {},
     "output_type": "execute_result"
    }
   ],
   "source": [
    "df.drop('Unnamed: 0', axis=1 , inplace=True)\n",
    "df.head()"
   ]
  },
  {
   "cell_type": "code",
   "execution_count": 76,
   "metadata": {},
   "outputs": [],
   "source": [
    "#Clean/Convert car_mileage to float number\n",
    "df[\"car_mileage\"] = df[\"car_mileage\"].str.split(\"K\").str[0].astype('float')*1000"
   ]
  },
  {
   "cell_type": "code",
   "execution_count": 77,
   "metadata": {},
   "outputs": [
    {
     "data": {
      "text/plain": [
       "(2631, 13)"
      ]
     },
     "execution_count": 77,
     "metadata": {},
     "output_type": "execute_result"
    }
   ],
   "source": [
    "# Clean/Convert car_price to float number\n",
    "df['car_price'] = df['car_price'].str.replace(\"$\",\"\").str.replace(\"*\",\"\").str.replace(\",\",\"\").str.replace(\"N/A\",'0').astype('float')\n",
    "#df_final = df_final[(df_final['car_price'] != 'N/A') | (df_final['car_price'] != 'NaN') | (df_final['car_price'] != np.nan)].astype('float')\n",
    "df.loc[df['car_price']==0] = np.nan\n",
    "df.shape"
   ]
  },
  {
   "cell_type": "code",
   "execution_count": 78,
   "metadata": {},
   "outputs": [
    {
     "data": {
      "text/plain": [
       "(2376, 13)"
      ]
     },
     "execution_count": 78,
     "metadata": {},
     "output_type": "execute_result"
    }
   ],
   "source": [
    "# dropping the null columns in car_prices\n",
    "df = df[pd.notnull(df['car_price'])]\n",
    "df.shape"
   ]
  },
  {
   "cell_type": "code",
   "execution_count": 79,
   "metadata": {},
   "outputs": [],
   "source": [
    "# Separating the Car model and car make\n",
    "df[['car_model','Trim']] = df['car_model'].str.split(\" \",1,expand=True)"
   ]
  },
  {
   "cell_type": "code",
   "execution_count": 80,
   "metadata": {},
   "outputs": [],
   "source": [
    "# Clean and separate city/highway MPG\n",
    "df['car_mpg'] = df['car_mpg'].str.replace(\"[\",\"\").str.replace(\"'\",\"\").str.replace(\"]\",\"\").str.replace(\" mpg\",\"\").str.replace('nan','0/0')\n",
    "df[['City_MPG','Highway_MGP']] = df['car_mpg'].str.split(\"/\",expand=True)\n",
    "df.drop('car_mpg',axis=1,inplace=True)"
   ]
  },
  {
   "cell_type": "code",
   "execution_count": 81,
   "metadata": {},
   "outputs": [],
   "source": [
    "# Creating two new columns\n",
    "df['car_age'] = 2021 - df['car_model_year']\n",
    "df['depreciation'] = df['car_msrp_price']-df['car_price']\n",
    "df['depreciation_percent'] = 100*df['depreciation']/df['car_msrp_price']"
   ]
  },
  {
   "cell_type": "code",
   "execution_count": 82,
   "metadata": {},
   "outputs": [],
   "source": [
    "df['car_model_year'] = df['car_model_year'].astype('int')"
   ]
  },
  {
   "cell_type": "code",
   "execution_count": 96,
   "metadata": {},
   "outputs": [
    {
     "data": {
      "text/html": [
       "<div>\n",
       "<style scoped>\n",
       "    .dataframe tbody tr th:only-of-type {\n",
       "        vertical-align: middle;\n",
       "    }\n",
       "\n",
       "    .dataframe tbody tr th {\n",
       "        vertical-align: top;\n",
       "    }\n",
       "\n",
       "    .dataframe thead th {\n",
       "        text-align: right;\n",
       "    }\n",
       "</style>\n",
       "<table border=\"1\" class=\"dataframe\">\n",
       "  <thead>\n",
       "    <tr style=\"text-align: right;\">\n",
       "      <th></th>\n",
       "      <th>car_mileage</th>\n",
       "      <th>car_price</th>\n",
       "      <th>car_model_year</th>\n",
       "      <th>car_model</th>\n",
       "      <th>car_make</th>\n",
       "      <th>car_color</th>\n",
       "      <th>car_transmission</th>\n",
       "      <th>car_engine_size</th>\n",
       "      <th>car_horse_power</th>\n",
       "      <th>car_engine_cylinder</th>\n",
       "      <th>car_msrp_price</th>\n",
       "      <th>state</th>\n",
       "      <th>Trim</th>\n",
       "      <th>City_MPG</th>\n",
       "      <th>Highway_MGP</th>\n",
       "      <th>car_age</th>\n",
       "      <th>depreciation</th>\n",
       "      <th>depreciation_percent</th>\n",
       "    </tr>\n",
       "  </thead>\n",
       "  <tbody>\n",
       "    <tr>\n",
       "      <th>0</th>\n",
       "      <td>93000.0</td>\n",
       "      <td>13998.0</td>\n",
       "      <td>2015</td>\n",
       "      <td>Fusion</td>\n",
       "      <td>Ford</td>\n",
       "      <td>Red</td>\n",
       "      <td>Automatic</td>\n",
       "      <td>2.0</td>\n",
       "      <td>240.0</td>\n",
       "      <td>4.0</td>\n",
       "      <td>30800.0</td>\n",
       "      <td>TX</td>\n",
       "      <td>Titanium</td>\n",
       "      <td>22</td>\n",
       "      <td>33</td>\n",
       "      <td>6.0</td>\n",
       "      <td>16802.0</td>\n",
       "      <td>54.551948</td>\n",
       "    </tr>\n",
       "    <tr>\n",
       "      <th>1</th>\n",
       "      <td>115000.0</td>\n",
       "      <td>36998.0</td>\n",
       "      <td>2015</td>\n",
       "      <td>F250</td>\n",
       "      <td>Ford</td>\n",
       "      <td>Silver</td>\n",
       "      <td>Automatic</td>\n",
       "      <td>6.7</td>\n",
       "      <td>400.0</td>\n",
       "      <td>8.0</td>\n",
       "      <td>38300.0</td>\n",
       "      <td>TX</td>\n",
       "      <td>XLT</td>\n",
       "      <td>12</td>\n",
       "      <td>17</td>\n",
       "      <td>6.0</td>\n",
       "      <td>1302.0</td>\n",
       "      <td>3.399478</td>\n",
       "    </tr>\n",
       "    <tr>\n",
       "      <th>2</th>\n",
       "      <td>35000.0</td>\n",
       "      <td>20998.0</td>\n",
       "      <td>2018</td>\n",
       "      <td>Transit</td>\n",
       "      <td>Ford</td>\n",
       "      <td>Gray</td>\n",
       "      <td>Automatic</td>\n",
       "      <td>2.5</td>\n",
       "      <td>169.0</td>\n",
       "      <td>4.0</td>\n",
       "      <td>28000.0</td>\n",
       "      <td>TX</td>\n",
       "      <td>Connect XLT</td>\n",
       "      <td>19</td>\n",
       "      <td>27</td>\n",
       "      <td>3.0</td>\n",
       "      <td>7002.0</td>\n",
       "      <td>25.007143</td>\n",
       "    </tr>\n",
       "    <tr>\n",
       "      <th>4</th>\n",
       "      <td>44000.0</td>\n",
       "      <td>25998.0</td>\n",
       "      <td>2015</td>\n",
       "      <td>F150</td>\n",
       "      <td>Ford</td>\n",
       "      <td>Red</td>\n",
       "      <td>Automatic</td>\n",
       "      <td>2.7</td>\n",
       "      <td>325.0</td>\n",
       "      <td>6.0</td>\n",
       "      <td>33600.0</td>\n",
       "      <td>TX</td>\n",
       "      <td>XL</td>\n",
       "      <td>18</td>\n",
       "      <td>23</td>\n",
       "      <td>6.0</td>\n",
       "      <td>7602.0</td>\n",
       "      <td>22.625000</td>\n",
       "    </tr>\n",
       "    <tr>\n",
       "      <th>5</th>\n",
       "      <td>46000.0</td>\n",
       "      <td>22998.0</td>\n",
       "      <td>2017</td>\n",
       "      <td>Edge</td>\n",
       "      <td>Ford</td>\n",
       "      <td>Silver</td>\n",
       "      <td>Automatic</td>\n",
       "      <td>3.5</td>\n",
       "      <td>280.0</td>\n",
       "      <td>6.0</td>\n",
       "      <td>37600.0</td>\n",
       "      <td>TX</td>\n",
       "      <td>Titanium</td>\n",
       "      <td>17</td>\n",
       "      <td>24</td>\n",
       "      <td>4.0</td>\n",
       "      <td>14602.0</td>\n",
       "      <td>38.835106</td>\n",
       "    </tr>\n",
       "    <tr>\n",
       "      <th>...</th>\n",
       "      <td>...</td>\n",
       "      <td>...</td>\n",
       "      <td>...</td>\n",
       "      <td>...</td>\n",
       "      <td>...</td>\n",
       "      <td>...</td>\n",
       "      <td>...</td>\n",
       "      <td>...</td>\n",
       "      <td>...</td>\n",
       "      <td>...</td>\n",
       "      <td>...</td>\n",
       "      <td>...</td>\n",
       "      <td>...</td>\n",
       "      <td>...</td>\n",
       "      <td>...</td>\n",
       "      <td>...</td>\n",
       "      <td>...</td>\n",
       "      <td>...</td>\n",
       "    </tr>\n",
       "    <tr>\n",
       "      <th>2623</th>\n",
       "      <td>84000.0</td>\n",
       "      <td>13998.0</td>\n",
       "      <td>2018</td>\n",
       "      <td>Escape</td>\n",
       "      <td>Ford</td>\n",
       "      <td>Blue</td>\n",
       "      <td>Automatic</td>\n",
       "      <td>1.5</td>\n",
       "      <td>179.0</td>\n",
       "      <td>NaN</td>\n",
       "      <td>25700.0</td>\n",
       "      <td>CA</td>\n",
       "      <td>SE</td>\n",
       "      <td>23</td>\n",
       "      <td>30</td>\n",
       "      <td>3.0</td>\n",
       "      <td>11702.0</td>\n",
       "      <td>45.533074</td>\n",
       "    </tr>\n",
       "    <tr>\n",
       "      <th>2624</th>\n",
       "      <td>7000.0</td>\n",
       "      <td>26998.0</td>\n",
       "      <td>2019</td>\n",
       "      <td>Mustang</td>\n",
       "      <td>Ford</td>\n",
       "      <td>Gray</td>\n",
       "      <td>Automatic</td>\n",
       "      <td>2.3</td>\n",
       "      <td>310.0</td>\n",
       "      <td>4.0</td>\n",
       "      <td>26400.0</td>\n",
       "      <td>CA</td>\n",
       "      <td>Ecoboost Premium</td>\n",
       "      <td>0</td>\n",
       "      <td>0</td>\n",
       "      <td>2.0</td>\n",
       "      <td>-598.0</td>\n",
       "      <td>-2.265152</td>\n",
       "    </tr>\n",
       "    <tr>\n",
       "      <th>2628</th>\n",
       "      <td>90000.0</td>\n",
       "      <td>11599.0</td>\n",
       "      <td>2014</td>\n",
       "      <td>Escape</td>\n",
       "      <td>Ford</td>\n",
       "      <td>White</td>\n",
       "      <td>Automatic</td>\n",
       "      <td>2.5</td>\n",
       "      <td>168.0</td>\n",
       "      <td>4.0</td>\n",
       "      <td>23100.0</td>\n",
       "      <td>CA</td>\n",
       "      <td>S</td>\n",
       "      <td>22</td>\n",
       "      <td>31</td>\n",
       "      <td>7.0</td>\n",
       "      <td>11501.0</td>\n",
       "      <td>49.787879</td>\n",
       "    </tr>\n",
       "    <tr>\n",
       "      <th>2629</th>\n",
       "      <td>42000.0</td>\n",
       "      <td>13998.0</td>\n",
       "      <td>2015</td>\n",
       "      <td>Escape</td>\n",
       "      <td>Ford</td>\n",
       "      <td>White</td>\n",
       "      <td>Automatic</td>\n",
       "      <td>2.5</td>\n",
       "      <td>168.0</td>\n",
       "      <td>4.0</td>\n",
       "      <td>23500.0</td>\n",
       "      <td>CA</td>\n",
       "      <td>S</td>\n",
       "      <td>22</td>\n",
       "      <td>31</td>\n",
       "      <td>6.0</td>\n",
       "      <td>9502.0</td>\n",
       "      <td>40.434043</td>\n",
       "    </tr>\n",
       "    <tr>\n",
       "      <th>2630</th>\n",
       "      <td>45000.0</td>\n",
       "      <td>14599.0</td>\n",
       "      <td>2019</td>\n",
       "      <td>Fusion</td>\n",
       "      <td>Ford</td>\n",
       "      <td>Black</td>\n",
       "      <td>Automatic</td>\n",
       "      <td>1.5</td>\n",
       "      <td>181.0</td>\n",
       "      <td>4.0</td>\n",
       "      <td>24200.0</td>\n",
       "      <td>CA</td>\n",
       "      <td>SE</td>\n",
       "      <td>23</td>\n",
       "      <td>34</td>\n",
       "      <td>2.0</td>\n",
       "      <td>9601.0</td>\n",
       "      <td>39.673554</td>\n",
       "    </tr>\n",
       "  </tbody>\n",
       "</table>\n",
       "<p>2105 rows × 18 columns</p>\n",
       "</div>"
      ],
      "text/plain": [
       "      car_mileage  car_price  car_model_year car_model car_make car_color  \\\n",
       "0         93000.0    13998.0            2015    Fusion     Ford       Red   \n",
       "1        115000.0    36998.0            2015      F250     Ford    Silver   \n",
       "2         35000.0    20998.0            2018   Transit     Ford      Gray   \n",
       "4         44000.0    25998.0            2015      F150     Ford       Red   \n",
       "5         46000.0    22998.0            2017      Edge     Ford    Silver   \n",
       "...           ...        ...             ...       ...      ...       ...   \n",
       "2623      84000.0    13998.0            2018    Escape     Ford      Blue   \n",
       "2624       7000.0    26998.0            2019   Mustang     Ford      Gray   \n",
       "2628      90000.0    11599.0            2014    Escape     Ford     White   \n",
       "2629      42000.0    13998.0            2015    Escape     Ford     White   \n",
       "2630      45000.0    14599.0            2019    Fusion     Ford     Black   \n",
       "\n",
       "     car_transmission  car_engine_size  car_horse_power  car_engine_cylinder  \\\n",
       "0           Automatic              2.0            240.0                  4.0   \n",
       "1           Automatic              6.7            400.0                  8.0   \n",
       "2           Automatic              2.5            169.0                  4.0   \n",
       "4           Automatic              2.7            325.0                  6.0   \n",
       "5           Automatic              3.5            280.0                  6.0   \n",
       "...               ...              ...              ...                  ...   \n",
       "2623        Automatic              1.5            179.0                  NaN   \n",
       "2624        Automatic              2.3            310.0                  4.0   \n",
       "2628        Automatic              2.5            168.0                  4.0   \n",
       "2629        Automatic              2.5            168.0                  4.0   \n",
       "2630        Automatic              1.5            181.0                  4.0   \n",
       "\n",
       "      car_msrp_price state               Trim City_MPG Highway_MGP  car_age  \\\n",
       "0            30800.0    TX          Titanium        22          33      6.0   \n",
       "1            38300.0    TX               XLT        12          17      6.0   \n",
       "2            28000.0    TX       Connect XLT        19          27      3.0   \n",
       "4            33600.0    TX                XL        18          23      6.0   \n",
       "5            37600.0    TX          Titanium        17          24      4.0   \n",
       "...              ...   ...                ...      ...         ...      ...   \n",
       "2623         25700.0    CA                SE        23          30      3.0   \n",
       "2624         26400.0    CA  Ecoboost Premium         0           0      2.0   \n",
       "2628         23100.0    CA                 S        22          31      7.0   \n",
       "2629         23500.0    CA                 S        22          31      6.0   \n",
       "2630         24200.0    CA                SE        23          34      2.0   \n",
       "\n",
       "      depreciation  depreciation_percent  \n",
       "0          16802.0             54.551948  \n",
       "1           1302.0              3.399478  \n",
       "2           7002.0             25.007143  \n",
       "4           7602.0             22.625000  \n",
       "5          14602.0             38.835106  \n",
       "...            ...                   ...  \n",
       "2623       11702.0             45.533074  \n",
       "2624        -598.0             -2.265152  \n",
       "2628       11501.0             49.787879  \n",
       "2629        9502.0             40.434043  \n",
       "2630        9601.0             39.673554  \n",
       "\n",
       "[2105 rows x 18 columns]"
      ]
     },
     "execution_count": 96,
     "metadata": {},
     "output_type": "execute_result"
    }
   ],
   "source": [
    "df"
   ]
  },
  {
   "cell_type": "code",
   "execution_count": 84,
   "metadata": {},
   "outputs": [
    {
     "data": {
      "text/plain": [
       "2017    494\n",
       "2018    458\n",
       "2019    346\n",
       "2016    257\n",
       "2015    201\n",
       "2014    175\n",
       "2013    156\n",
       "2020    137\n",
       "2012     67\n",
       "2011     46\n",
       "2010     27\n",
       "2009     12\n",
       "Name: car_model_year, dtype: int64"
      ]
     },
     "execution_count": 84,
     "metadata": {},
     "output_type": "execute_result"
    }
   ],
   "source": [
    "df.car_model_year.value_counts()"
   ]
  },
  {
   "cell_type": "code",
   "execution_count": 86,
   "metadata": {},
   "outputs": [
    {
     "name": "stdout",
     "output_type": "stream",
     "text": [
      "(2376, 18)\n",
      "(2224, 18)\n"
     ]
    }
   ],
   "source": [
    "# Filtering the data based on dates after 2012\n",
    "print(df.shape)\n",
    "df = df[df['car_model_year']>2012]\n",
    "print(df.shape)"
   ]
  },
  {
   "cell_type": "code",
   "execution_count": 87,
   "metadata": {},
   "outputs": [
    {
     "data": {
      "image/png": "[encoded data removed]",
      "text/plain": [
       "<Figure size 432x288 with 1 Axes>"
      ]
     },
     "metadata": {
      "needs_background": "light"
     },
     "output_type": "display_data"
    }
   ],
   "source": [
    "ax = df.groupby('car_model_year').depreciation_percent.mean().plot(c='k',ls='--');\n",
    "ax.set_title('Depreciataion percent',size=15,c='k');"
   ]
  },
  {
   "cell_type": "code",
   "execution_count": 88,
   "metadata": {},
   "outputs": [
    {
     "data": {
      "image/png": "[encoded data removed]",
      "text/plain": [
       "<Figure size 432x288 with 1 Axes>"
      ]
     },
     "metadata": {
      "needs_background": "light"
     },
     "output_type": "display_data"
    }
   ],
   "source": [
    "df['depreciation_percent'].hist(grid=False,color='k',bins=20);"
   ]
  },
  {
   "cell_type": "code",
   "execution_count": null,
   "metadata": {},
   "outputs": [],
   "source": []
  },
  {
   "cell_type": "code",
   "execution_count": 97,
   "metadata": {},
   "outputs": [
    {
     "data": {
      "image/png": "[encoded data removed]",
      "text/plain": [
       "<Figure size 432x288 with 1 Axes>"
      ]
     },
     "metadata": {
      "needs_background": "light"
     },
     "output_type": "display_data"
    }
   ],
   "source": [
    "# Removing the data with depreciation less than -10\n",
    "df = df[df['depreciation_percent']>-10]\n",
    "df['depreciation_percent'].hist(grid=False,color='k',bins=20);"
   ]
  },
  {
   "cell_type": "code",
   "execution_count": null,
   "metadata": {},
   "outputs": [],
   "source": []
  },
  {
   "cell_type": "code",
   "execution_count": 28,
   "metadata": {},
   "outputs": [
    {
     "data": {
      "text/plain": [
       "F150       63\n",
       "Tacoma     23\n",
       "F250       19\n",
       "Mustang    11\n",
       "Ranger      9\n",
       "Tundra      9\n",
       "4Runner     7\n",
       "F350        2\n",
       "Camry       1\n",
       "Name: car_model, dtype: int64"
      ]
     },
     "execution_count": 28,
     "metadata": {},
     "output_type": "execute_result"
    }
   ],
   "source": [
    "df[df.depreciation<0].car_model.value_counts()"
   ]
  },
  {
   "cell_type": "code",
   "execution_count": 29,
   "metadata": {},
   "outputs": [
    {
     "data": {
      "text/plain": [
       "2013    156\n",
       "2014    175\n",
       "2015    201\n",
       "2016    257\n",
       "2017    494\n",
       "2018    458\n",
       "2019    346\n",
       "2020    137\n",
       "Name: car_model_year, dtype: int64"
      ]
     },
     "execution_count": 29,
     "metadata": {},
     "output_type": "execute_result"
    }
   ],
   "source": [
    "df.car_model_year.value_counts().sort_index()"
   ]
  },
  {
   "cell_type": "code",
   "execution_count": 100,
   "metadata": {},
   "outputs": [
    {
     "ename": "AttributeError",
     "evalue": "'PathCollection' object has no property 'markerfacecolor'",
     "output_type": "error",
     "traceback": [
      "\u001b[0;31m---------------------------------------------------------------------------\u001b[0m",
      "\u001b[0;31mAttributeError\u001b[0m                            Traceback (most recent call last)",
      "\u001b[0;32m<ipython-input-100-7f2912d11dea>\u001b[0m in \u001b[0;36m<module>\u001b[0;34m\u001b[0m\n\u001b[1;32m      1\u001b[0m \u001b[0mfig\u001b[0m \u001b[0;34m,\u001b[0m \u001b[0max\u001b[0m \u001b[0;34m=\u001b[0m \u001b[0mplt\u001b[0m\u001b[0;34m.\u001b[0m\u001b[0msubplots\u001b[0m\u001b[0;34m(\u001b[0m\u001b[0mfigsize\u001b[0m\u001b[0;34m=\u001b[0m\u001b[0;34m(\u001b[0m\u001b[0;36m8\u001b[0m\u001b[0;34m,\u001b[0m\u001b[0;36m6\u001b[0m\u001b[0;34m)\u001b[0m\u001b[0;34m)\u001b[0m\u001b[0;34m\u001b[0m\u001b[0;34m\u001b[0m\u001b[0m\n\u001b[0;32m----> 2\u001b[0;31m \u001b[0max\u001b[0m\u001b[0;34m.\u001b[0m\u001b[0mscatter\u001b[0m\u001b[0;34m(\u001b[0m\u001b[0mx\u001b[0m\u001b[0;34m=\u001b[0m\u001b[0mdf\u001b[0m\u001b[0;34m.\u001b[0m\u001b[0mcar_mileage\u001b[0m\u001b[0;34m,\u001b[0m\u001b[0my\u001b[0m\u001b[0;34m=\u001b[0m\u001b[0mdf\u001b[0m\u001b[0;34m.\u001b[0m\u001b[0mdepreciation_percent\u001b[0m\u001b[0;34m,\u001b[0m\u001b[0malpha\u001b[0m\u001b[0;34m=\u001b[0m\u001b[0;36m0.5\u001b[0m\u001b[0;34m,\u001b[0m\u001b[0mc\u001b[0m\u001b[0;34m=\u001b[0m\u001b[0;34m'k'\u001b[0m\u001b[0;34m,\u001b[0m\u001b[0mmarker\u001b[0m\u001b[0;34m=\u001b[0m\u001b[0;34m'o'\u001b[0m\u001b[0;34m,\u001b[0m\u001b[0mmarkerfacecolor\u001b[0m\u001b[0;34m=\u001b[0m\u001b[0;34m'red'\u001b[0m\u001b[0;34m)\u001b[0m\u001b[0;34m;\u001b[0m\u001b[0;34m\u001b[0m\u001b[0;34m\u001b[0m\u001b[0m\n\u001b[0m\u001b[1;32m      3\u001b[0m \u001b[0max\u001b[0m\u001b[0;34m.\u001b[0m\u001b[0mset_xlabel\u001b[0m\u001b[0;34m(\u001b[0m\u001b[0;34m'Car_mileage'\u001b[0m\u001b[0;34m,\u001b[0m\u001b[0msize\u001b[0m\u001b[0;34m=\u001b[0m\u001b[0;36m15\u001b[0m\u001b[0;34m)\u001b[0m\u001b[0;34m;\u001b[0m\u001b[0;34m\u001b[0m\u001b[0;34m\u001b[0m\u001b[0m\n\u001b[1;32m      4\u001b[0m \u001b[0max\u001b[0m\u001b[0;34m.\u001b[0m\u001b[0mset_ylabel\u001b[0m\u001b[0;34m(\u001b[0m\u001b[0;34m'Depreciation_percent'\u001b[0m\u001b[0;34m,\u001b[0m\u001b[0msize\u001b[0m\u001b[0;34m=\u001b[0m\u001b[0;36m15\u001b[0m\u001b[0;34m)\u001b[0m\u001b[0;34m;\u001b[0m\u001b[0;34m\u001b[0m\u001b[0;34m\u001b[0m\u001b[0m\n",
      "\u001b[0;32m~/anaconda3/lib/python3.7/site-packages/matplotlib/__init__.py\u001b[0m in \u001b[0;36minner\u001b[0;34m(ax, data, *args, **kwargs)\u001b[0m\n\u001b[1;32m   1436\u001b[0m     \u001b[0;32mdef\u001b[0m \u001b[0minner\u001b[0m\u001b[0;34m(\u001b[0m\u001b[0max\u001b[0m\u001b[0;34m,\u001b[0m \u001b[0;34m*\u001b[0m\u001b[0margs\u001b[0m\u001b[0;34m,\u001b[0m \u001b[0mdata\u001b[0m\u001b[0;34m=\u001b[0m\u001b[0;32mNone\u001b[0m\u001b[0;34m,\u001b[0m \u001b[0;34m**\u001b[0m\u001b[0mkwargs\u001b[0m\u001b[0;34m)\u001b[0m\u001b[0;34m:\u001b[0m\u001b[0;34m\u001b[0m\u001b[0;34m\u001b[0m\u001b[0m\n\u001b[1;32m   1437\u001b[0m         \u001b[0;32mif\u001b[0m \u001b[0mdata\u001b[0m \u001b[0;32mis\u001b[0m \u001b[0;32mNone\u001b[0m\u001b[0;34m:\u001b[0m\u001b[0;34m\u001b[0m\u001b[0;34m\u001b[0m\u001b[0m\n\u001b[0;32m-> 1438\u001b[0;31m             \u001b[0;32mreturn\u001b[0m \u001b[0mfunc\u001b[0m\u001b[0;34m(\u001b[0m\u001b[0max\u001b[0m\u001b[0;34m,\u001b[0m \u001b[0;34m*\u001b[0m\u001b[0mmap\u001b[0m\u001b[0;34m(\u001b[0m\u001b[0msanitize_sequence\u001b[0m\u001b[0;34m,\u001b[0m \u001b[0margs\u001b[0m\u001b[0;34m)\u001b[0m\u001b[0;34m,\u001b[0m \u001b[0;34m**\u001b[0m\u001b[0mkwargs\u001b[0m\u001b[0;34m)\u001b[0m\u001b[0;34m\u001b[0m\u001b[0;34m\u001b[0m\u001b[0m\n\u001b[0m\u001b[1;32m   1439\u001b[0m \u001b[0;34m\u001b[0m\u001b[0m\n\u001b[1;32m   1440\u001b[0m         \u001b[0mbound\u001b[0m \u001b[0;34m=\u001b[0m \u001b[0mnew_sig\u001b[0m\u001b[0;34m.\u001b[0m\u001b[0mbind\u001b[0m\u001b[0;34m(\u001b[0m\u001b[0max\u001b[0m\u001b[0;34m,\u001b[0m \u001b[0;34m*\u001b[0m\u001b[0margs\u001b[0m\u001b[0;34m,\u001b[0m \u001b[0;34m**\u001b[0m\u001b[0mkwargs\u001b[0m\u001b[0;34m)\u001b[0m\u001b[0;34m\u001b[0m\u001b[0;34m\u001b[0m\u001b[0m\n",
      "\u001b[0;32m~/anaconda3/lib/python3.7/site-packages/matplotlib/cbook/deprecation.py\u001b[0m in \u001b[0;36mwrapper\u001b[0;34m(*inner_args, **inner_kwargs)\u001b[0m\n\u001b[1;32m    409\u001b[0m                          \u001b[0;32melse\u001b[0m \u001b[0mdeprecation_addendum\u001b[0m\u001b[0;34m,\u001b[0m\u001b[0;34m\u001b[0m\u001b[0;34m\u001b[0m\u001b[0m\n\u001b[1;32m    410\u001b[0m                 **kwargs)\n\u001b[0;32m--> 411\u001b[0;31m         \u001b[0;32mreturn\u001b[0m \u001b[0mfunc\u001b[0m\u001b[0;34m(\u001b[0m\u001b[0;34m*\u001b[0m\u001b[0minner_args\u001b[0m\u001b[0;34m,\u001b[0m \u001b[0;34m**\u001b[0m\u001b[0minner_kwargs\u001b[0m\u001b[0;34m)\u001b[0m\u001b[0;34m\u001b[0m\u001b[0;34m\u001b[0m\u001b[0m\n\u001b[0m\u001b[1;32m    412\u001b[0m \u001b[0;34m\u001b[0m\u001b[0m\n\u001b[1;32m    413\u001b[0m     \u001b[0;32mreturn\u001b[0m \u001b[0mwrapper\u001b[0m\u001b[0;34m\u001b[0m\u001b[0;34m\u001b[0m\u001b[0m\n",
      "\u001b[0;32m~/anaconda3/lib/python3.7/site-packages/matplotlib/axes/_axes.py\u001b[0m in \u001b[0;36mscatter\u001b[0;34m(self, x, y, s, c, marker, cmap, norm, vmin, vmax, alpha, linewidths, verts, edgecolors, plotnonfinite, **kwargs)\u001b[0m\n\u001b[1;32m   4496\u001b[0m                 )\n\u001b[1;32m   4497\u001b[0m         \u001b[0mcollection\u001b[0m\u001b[0;34m.\u001b[0m\u001b[0mset_transform\u001b[0m\u001b[0;34m(\u001b[0m\u001b[0mmtransforms\u001b[0m\u001b[0;34m.\u001b[0m\u001b[0mIdentityTransform\u001b[0m\u001b[0;34m(\u001b[0m\u001b[0;34m)\u001b[0m\u001b[0;34m)\u001b[0m\u001b[0;34m\u001b[0m\u001b[0;34m\u001b[0m\u001b[0m\n\u001b[0;32m-> 4498\u001b[0;31m         \u001b[0mcollection\u001b[0m\u001b[0;34m.\u001b[0m\u001b[0mupdate\u001b[0m\u001b[0;34m(\u001b[0m\u001b[0mkwargs\u001b[0m\u001b[0;34m)\u001b[0m\u001b[0;34m\u001b[0m\u001b[0;34m\u001b[0m\u001b[0m\n\u001b[0m\u001b[1;32m   4499\u001b[0m \u001b[0;34m\u001b[0m\u001b[0m\n\u001b[1;32m   4500\u001b[0m         \u001b[0;32mif\u001b[0m \u001b[0mcolors\u001b[0m \u001b[0;32mis\u001b[0m \u001b[0;32mNone\u001b[0m\u001b[0;34m:\u001b[0m\u001b[0;34m\u001b[0m\u001b[0;34m\u001b[0m\u001b[0m\n",
      "\u001b[0;32m~/anaconda3/lib/python3.7/site-packages/matplotlib/artist.py\u001b[0m in \u001b[0;36mupdate\u001b[0;34m(self, props)\u001b[0m\n\u001b[1;32m    994\u001b[0m                     \u001b[0mfunc\u001b[0m \u001b[0;34m=\u001b[0m \u001b[0mgetattr\u001b[0m\u001b[0;34m(\u001b[0m\u001b[0mself\u001b[0m\u001b[0;34m,\u001b[0m \u001b[0;34mf\"set_{k}\"\u001b[0m\u001b[0;34m,\u001b[0m \u001b[0;32mNone\u001b[0m\u001b[0;34m)\u001b[0m\u001b[0;34m\u001b[0m\u001b[0;34m\u001b[0m\u001b[0m\n\u001b[1;32m    995\u001b[0m                     \u001b[0;32mif\u001b[0m \u001b[0;32mnot\u001b[0m \u001b[0mcallable\u001b[0m\u001b[0;34m(\u001b[0m\u001b[0mfunc\u001b[0m\u001b[0;34m)\u001b[0m\u001b[0;34m:\u001b[0m\u001b[0;34m\u001b[0m\u001b[0;34m\u001b[0m\u001b[0m\n\u001b[0;32m--> 996\u001b[0;31m                         raise AttributeError(f\"{type(self).__name__!r} object \"\n\u001b[0m\u001b[1;32m    997\u001b[0m                                              f\"has no property {k!r}\")\n\u001b[1;32m    998\u001b[0m                     \u001b[0mret\u001b[0m\u001b[0;34m.\u001b[0m\u001b[0mappend\u001b[0m\u001b[0;34m(\u001b[0m\u001b[0mfunc\u001b[0m\u001b[0;34m(\u001b[0m\u001b[0mv\u001b[0m\u001b[0;34m)\u001b[0m\u001b[0;34m)\u001b[0m\u001b[0;34m\u001b[0m\u001b[0;34m\u001b[0m\u001b[0m\n",
      "\u001b[0;31mAttributeError\u001b[0m: 'PathCollection' object has no property 'markerfacecolor'"
     ]
    },
    {
     "data": {
      "image/png": "[encoded data removed]",
      "text/plain": [
       "<Figure size 576x432 with 1 Axes>"
      ]
     },
     "metadata": {
      "needs_background": "light"
     },
     "output_type": "display_data"
    }
   ],
   "source": [
    "fig , ax = plt.subplots(figsize=(8,6))\n",
    "ax.scatter(x=df.car_mileage,y=df.depreciation_percent,alpha=0.5,c='k',marker='o',markerfacecolor='red');\n",
    "ax.set_xlabel('Car_mileage',size=15);\n",
    "ax.set_ylabel('Depreciation_percent',size=15);"
   ]
  },
  {
   "cell_type": "code",
   "execution_count": null,
   "metadata": {},
   "outputs": [],
   "source": []
  },
  {
   "cell_type": "code",
   "execution_count": null,
   "metadata": {},
   "outputs": [],
   "source": []
  }
 ],
 "metadata": {
  "kernelspec": {
   "display_name": "Python 3",
   "language": "python",
   "name": "python3"
  },
  "language_info": {
   "codemirror_mode": {
    "name": "ipython",
    "version": 3
   },
   "file_extension": ".py",
   "mimetype": "text/x-python",
   "name": "python",
   "nbconvert_exporter": "python",
   "pygments_lexer": "ipython3",
   "version": "3.7.9"
  }
 },
 "nbformat": 4,
 "nbformat_minor": 4
}
