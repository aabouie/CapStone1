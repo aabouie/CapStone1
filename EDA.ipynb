{
 "cells": [
  {
   "cell_type": "code",
   "execution_count": 254,
   "metadata": {},
   "outputs": [],
   "source": [
    "import pandas as pd\n",
    "import numpy as np"
   ]
  },
  {
   "cell_type": "code",
   "execution_count": 266,
   "metadata": {},
   "outputs": [],
   "source": [
    "# Ford\n",
    "## Texas Data\n",
    "df_TX_1 = pd.read_csv('Ford_TX.csv')\n",
    "df_TX_1['state'] = 'TX'\n",
    "df_TX_2 = pd.read_csv('Ford_TX2.csv')\n",
    "df_TX_2['state'] = 'TX'\n",
    "## NY Data\n",
    "\n",
    "\n",
    "## California Data"
   ]
  },
  {
   "cell_type": "code",
   "execution_count": 256,
   "metadata": {},
   "outputs": [],
   "source": [
    "# "
   ]
  },
  {
   "cell_type": "markdown",
   "metadata": {},
   "source": [
    "### Merging/Cleaning all data "
   ]
  },
  {
   "cell_type": "code",
   "execution_count": 267,
   "metadata": {},
   "outputs": [
    {
     "data": {
      "text/plain": [
       "Index(['Unnamed: 0', 'car_mileage', 'car_price', 'car_mpg', 'car_model_year',\n",
       "       'car_model', 'car_make', 'car_color', 'car_transmission',\n",
       "       'car_engine_size', 'car_horse_power', 'car_engine_cylinder',\n",
       "       'car_msrp_price', 'state'],\n",
       "      dtype='object')"
      ]
     },
     "execution_count": 267,
     "metadata": {},
     "output_type": "execute_result"
    }
   ],
   "source": [
    "df = pd.concat([df_TX_1,df_TX_2],axis=0).reset_index(drop=True)\n",
    "df.columns"
   ]
  },
  {
   "cell_type": "code",
   "execution_count": 268,
   "metadata": {},
   "outputs": [
    {
     "data": {
      "text/html": [
       "<div>\n",
       "<style scoped>\n",
       "    .dataframe tbody tr th:only-of-type {\n",
       "        vertical-align: middle;\n",
       "    }\n",
       "\n",
       "    .dataframe tbody tr th {\n",
       "        vertical-align: top;\n",
       "    }\n",
       "\n",
       "    .dataframe thead th {\n",
       "        text-align: right;\n",
       "    }\n",
       "</style>\n",
       "<table border=\"1\" class=\"dataframe\">\n",
       "  <thead>\n",
       "    <tr style=\"text-align: right;\">\n",
       "      <th></th>\n",
       "      <th>car_mileage</th>\n",
       "      <th>car_price</th>\n",
       "      <th>car_mpg</th>\n",
       "      <th>car_model_year</th>\n",
       "      <th>car_model</th>\n",
       "      <th>car_make</th>\n",
       "      <th>car_color</th>\n",
       "      <th>car_transmission</th>\n",
       "      <th>car_engine_size</th>\n",
       "      <th>car_horse_power</th>\n",
       "      <th>car_engine_cylinder</th>\n",
       "      <th>car_msrp_price</th>\n",
       "      <th>state</th>\n",
       "    </tr>\n",
       "  </thead>\n",
       "  <tbody>\n",
       "    <tr>\n",
       "      <th>0</th>\n",
       "      <td>93K miles</td>\n",
       "      <td>$13,998*</td>\n",
       "      <td>['22/33 mpg']</td>\n",
       "      <td>2015</td>\n",
       "      <td>Fusion Titanium</td>\n",
       "      <td>Ford</td>\n",
       "      <td>Red</td>\n",
       "      <td>Automatic</td>\n",
       "      <td>2.0</td>\n",
       "      <td>240.0</td>\n",
       "      <td>4.0</td>\n",
       "      <td>30800.0</td>\n",
       "      <td>TX</td>\n",
       "    </tr>\n",
       "    <tr>\n",
       "      <th>1</th>\n",
       "      <td>115K miles</td>\n",
       "      <td>$36,998*</td>\n",
       "      <td>['12/17 mpg']</td>\n",
       "      <td>2015</td>\n",
       "      <td>F250 XLT</td>\n",
       "      <td>Ford</td>\n",
       "      <td>Silver</td>\n",
       "      <td>Automatic</td>\n",
       "      <td>6.7</td>\n",
       "      <td>400.0</td>\n",
       "      <td>8.0</td>\n",
       "      <td>38300.0</td>\n",
       "      <td>TX</td>\n",
       "    </tr>\n",
       "    <tr>\n",
       "      <th>2</th>\n",
       "      <td>35K miles</td>\n",
       "      <td>$20,998*</td>\n",
       "      <td>['19/27 mpg']</td>\n",
       "      <td>2018</td>\n",
       "      <td>Transit Connect XLT</td>\n",
       "      <td>Ford</td>\n",
       "      <td>Gray</td>\n",
       "      <td>Automatic</td>\n",
       "      <td>2.5</td>\n",
       "      <td>169.0</td>\n",
       "      <td>4.0</td>\n",
       "      <td>28000.0</td>\n",
       "      <td>TX</td>\n",
       "    </tr>\n",
       "    <tr>\n",
       "      <th>3</th>\n",
       "      <td>7K miles</td>\n",
       "      <td>N/A*</td>\n",
       "      <td>['22/28 mpg']</td>\n",
       "      <td>2017</td>\n",
       "      <td>Escape Titanium</td>\n",
       "      <td>Ford</td>\n",
       "      <td>Black</td>\n",
       "      <td>Automatic</td>\n",
       "      <td>1.5</td>\n",
       "      <td>179.0</td>\n",
       "      <td>4.0</td>\n",
       "      <td>31000.0</td>\n",
       "      <td>TX</td>\n",
       "    </tr>\n",
       "    <tr>\n",
       "      <th>4</th>\n",
       "      <td>44K miles</td>\n",
       "      <td>$25,998*</td>\n",
       "      <td>['18/23 mpg']</td>\n",
       "      <td>2015</td>\n",
       "      <td>F150 XL</td>\n",
       "      <td>Ford</td>\n",
       "      <td>Red</td>\n",
       "      <td>Automatic</td>\n",
       "      <td>2.7</td>\n",
       "      <td>325.0</td>\n",
       "      <td>6.0</td>\n",
       "      <td>33600.0</td>\n",
       "      <td>TX</td>\n",
       "    </tr>\n",
       "  </tbody>\n",
       "</table>\n",
       "</div>"
      ],
      "text/plain": [
       "  car_mileage car_price        car_mpg  car_model_year             car_model  \\\n",
       "0   93K miles  $13,998*  ['22/33 mpg']            2015      Fusion Titanium    \n",
       "1  115K miles  $36,998*  ['12/17 mpg']            2015             F250 XLT    \n",
       "2   35K miles  $20,998*  ['19/27 mpg']            2018  Transit Connect XLT    \n",
       "3    7K miles      N/A*  ['22/28 mpg']            2017      Escape Titanium    \n",
       "4   44K miles  $25,998*  ['18/23 mpg']            2015              F150 XL    \n",
       "\n",
       "  car_make car_color car_transmission  car_engine_size  car_horse_power  \\\n",
       "0     Ford       Red        Automatic              2.0            240.0   \n",
       "1     Ford    Silver        Automatic              6.7            400.0   \n",
       "2     Ford      Gray        Automatic              2.5            169.0   \n",
       "3     Ford     Black        Automatic              1.5            179.0   \n",
       "4     Ford       Red        Automatic              2.7            325.0   \n",
       "\n",
       "   car_engine_cylinder  car_msrp_price state  \n",
       "0                  4.0         30800.0    TX  \n",
       "1                  8.0         38300.0    TX  \n",
       "2                  4.0         28000.0    TX  \n",
       "3                  4.0         31000.0    TX  \n",
       "4                  6.0         33600.0    TX  "
      ]
     },
     "execution_count": 268,
     "metadata": {},
     "output_type": "execute_result"
    }
   ],
   "source": [
    "df.drop('Unnamed: 0', axis=1 , inplace=True)\n",
    "df.head()"
   ]
  },
  {
   "cell_type": "code",
   "execution_count": 269,
   "metadata": {},
   "outputs": [],
   "source": [
    "#Clean/Convert car_mileage to float number\n",
    "df[\"car_mileage\"] = df[\"car_mileage\"].str.split(\"K\").str[0].astype('float')*1000"
   ]
  },
  {
   "cell_type": "code",
   "execution_count": 270,
   "metadata": {},
   "outputs": [
    {
     "data": {
      "text/plain": [
       "\"['22/28 mpg']\""
      ]
     },
     "execution_count": 270,
     "metadata": {},
     "output_type": "execute_result"
    }
   ],
   "source": [
    "# Clean/Convert car_price to float number\n",
    "df['car_price'] = df['car_price'].str.replace(\"$\",\"\").str.replace(\"*\",\"\").str.replace(\",\",\"\")\n",
    "#df_final = df_final[(df_final['car_price'] != 'N/A') | (df_final['car_price'] != 'NaN') | (df_final['car_price'] != np.nan)].astype('float')\n",
    "df.iloc[3,2]"
   ]
  },
  {
   "cell_type": "code",
   "execution_count": 271,
   "metadata": {},
   "outputs": [
    {
     "data": {
      "text/html": [
       "<div>\n",
       "<style scoped>\n",
       "    .dataframe tbody tr th:only-of-type {\n",
       "        vertical-align: middle;\n",
       "    }\n",
       "\n",
       "    .dataframe tbody tr th {\n",
       "        vertical-align: top;\n",
       "    }\n",
       "\n",
       "    .dataframe thead th {\n",
       "        text-align: right;\n",
       "    }\n",
       "</style>\n",
       "<table border=\"1\" class=\"dataframe\">\n",
       "  <thead>\n",
       "    <tr style=\"text-align: right;\">\n",
       "      <th></th>\n",
       "      <th>car_mileage</th>\n",
       "      <th>car_price</th>\n",
       "      <th>car_mpg</th>\n",
       "      <th>car_model_year</th>\n",
       "      <th>car_model</th>\n",
       "      <th>car_make</th>\n",
       "      <th>car_color</th>\n",
       "      <th>car_transmission</th>\n",
       "      <th>car_engine_size</th>\n",
       "      <th>car_horse_power</th>\n",
       "      <th>car_engine_cylinder</th>\n",
       "      <th>car_msrp_price</th>\n",
       "      <th>state</th>\n",
       "    </tr>\n",
       "  </thead>\n",
       "  <tbody>\n",
       "    <tr>\n",
       "      <th>0</th>\n",
       "      <td>93000.0</td>\n",
       "      <td>13998</td>\n",
       "      <td>['22/33 mpg']</td>\n",
       "      <td>2015</td>\n",
       "      <td>Fusion Titanium</td>\n",
       "      <td>Ford</td>\n",
       "      <td>Red</td>\n",
       "      <td>Automatic</td>\n",
       "      <td>2.0</td>\n",
       "      <td>240.0</td>\n",
       "      <td>4.0</td>\n",
       "      <td>30800.0</td>\n",
       "      <td>TX</td>\n",
       "    </tr>\n",
       "    <tr>\n",
       "      <th>1</th>\n",
       "      <td>115000.0</td>\n",
       "      <td>36998</td>\n",
       "      <td>['12/17 mpg']</td>\n",
       "      <td>2015</td>\n",
       "      <td>F250 XLT</td>\n",
       "      <td>Ford</td>\n",
       "      <td>Silver</td>\n",
       "      <td>Automatic</td>\n",
       "      <td>6.7</td>\n",
       "      <td>400.0</td>\n",
       "      <td>8.0</td>\n",
       "      <td>38300.0</td>\n",
       "      <td>TX</td>\n",
       "    </tr>\n",
       "    <tr>\n",
       "      <th>2</th>\n",
       "      <td>35000.0</td>\n",
       "      <td>20998</td>\n",
       "      <td>['19/27 mpg']</td>\n",
       "      <td>2018</td>\n",
       "      <td>Transit Connect XLT</td>\n",
       "      <td>Ford</td>\n",
       "      <td>Gray</td>\n",
       "      <td>Automatic</td>\n",
       "      <td>2.5</td>\n",
       "      <td>169.0</td>\n",
       "      <td>4.0</td>\n",
       "      <td>28000.0</td>\n",
       "      <td>TX</td>\n",
       "    </tr>\n",
       "    <tr>\n",
       "      <th>3</th>\n",
       "      <td>7000.0</td>\n",
       "      <td>N/A</td>\n",
       "      <td>['22/28 mpg']</td>\n",
       "      <td>2017</td>\n",
       "      <td>Escape Titanium</td>\n",
       "      <td>Ford</td>\n",
       "      <td>Black</td>\n",
       "      <td>Automatic</td>\n",
       "      <td>1.5</td>\n",
       "      <td>179.0</td>\n",
       "      <td>4.0</td>\n",
       "      <td>31000.0</td>\n",
       "      <td>TX</td>\n",
       "    </tr>\n",
       "    <tr>\n",
       "      <th>4</th>\n",
       "      <td>44000.0</td>\n",
       "      <td>25998</td>\n",
       "      <td>['18/23 mpg']</td>\n",
       "      <td>2015</td>\n",
       "      <td>F150 XL</td>\n",
       "      <td>Ford</td>\n",
       "      <td>Red</td>\n",
       "      <td>Automatic</td>\n",
       "      <td>2.7</td>\n",
       "      <td>325.0</td>\n",
       "      <td>6.0</td>\n",
       "      <td>33600.0</td>\n",
       "      <td>TX</td>\n",
       "    </tr>\n",
       "  </tbody>\n",
       "</table>\n",
       "</div>"
      ],
      "text/plain": [
       "   car_mileage car_price        car_mpg  car_model_year             car_model  \\\n",
       "0      93000.0     13998  ['22/33 mpg']            2015      Fusion Titanium    \n",
       "1     115000.0     36998  ['12/17 mpg']            2015             F250 XLT    \n",
       "2      35000.0     20998  ['19/27 mpg']            2018  Transit Connect XLT    \n",
       "3       7000.0       N/A  ['22/28 mpg']            2017      Escape Titanium    \n",
       "4      44000.0     25998  ['18/23 mpg']            2015              F150 XL    \n",
       "\n",
       "  car_make car_color car_transmission  car_engine_size  car_horse_power  \\\n",
       "0     Ford       Red        Automatic              2.0            240.0   \n",
       "1     Ford    Silver        Automatic              6.7            400.0   \n",
       "2     Ford      Gray        Automatic              2.5            169.0   \n",
       "3     Ford     Black        Automatic              1.5            179.0   \n",
       "4     Ford       Red        Automatic              2.7            325.0   \n",
       "\n",
       "   car_engine_cylinder  car_msrp_price state  \n",
       "0                  4.0         30800.0    TX  \n",
       "1                  8.0         38300.0    TX  \n",
       "2                  4.0         28000.0    TX  \n",
       "3                  4.0         31000.0    TX  \n",
       "4                  6.0         33600.0    TX  "
      ]
     },
     "execution_count": 271,
     "metadata": {},
     "output_type": "execute_result"
    }
   ],
   "source": [
    "df.head()"
   ]
  },
  {
   "cell_type": "code",
   "execution_count": 272,
   "metadata": {},
   "outputs": [],
   "source": [
    "# Separating the Car model and car make\n",
    "df[['car_model','Trim']] = df['car_model'].str.split(\" \",1,expand=True)"
   ]
  },
  {
   "cell_type": "code",
   "execution_count": 273,
   "metadata": {},
   "outputs": [],
   "source": [
    "# Clean and separate city/highway MPG\n",
    "df['car_mpg'] = df['car_mpg'].str.replace(\"[\",\"\").str.replace(\"'\",\"\").str.replace(\"]\",\"\").str.replace(\" mpg\",\"\").str.replace('nan','0/0')\n",
    "df[['City_MPG','Highway_MGP']] = df['car_mpg'].str.split(\"/\",expand=True)\n",
    "df.drop('car_mpg',axis=1,inplace=True)"
   ]
  },
  {
   "cell_type": "code",
   "execution_count": null,
   "metadata": {},
   "outputs": [],
   "source": []
  },
  {
   "cell_type": "code",
   "execution_count": null,
   "metadata": {},
   "outputs": [],
   "source": []
  },
  {
   "cell_type": "code",
   "execution_count": null,
   "metadata": {},
   "outputs": [],
   "source": []
  }
 ],
 "metadata": {
  "kernelspec": {
   "display_name": "Python 3",
   "language": "python",
   "name": "python3"
  },
  "language_info": {
   "codemirror_mode": {
    "name": "ipython",
    "version": 3
   },
   "file_extension": ".py",
   "mimetype": "text/x-python",
   "name": "python",
   "nbconvert_exporter": "python",
   "pygments_lexer": "ipython3",
   "version": "3.7.9"
  }
 },
 "nbformat": 4,
 "nbformat_minor": 4
}
